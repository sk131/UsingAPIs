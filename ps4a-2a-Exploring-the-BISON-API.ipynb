{
 "cells": [
  {
   "cell_type": "markdown",
   "metadata": {},
   "source": [
    "## Using the BISON API\n",
    "The USGS provides an API for accessing species observation data. https://bison.usgs.gov/doc/api.jsp\n",
    "\n",
    "This API is much better documented than the NWIS API, and we'll use it to dig a bit deeper into how the `requests` package can faciliate data access via APIs. "
   ]
  },
  {
   "cell_type": "markdown",
   "metadata": {},
   "source": [
    "* We'll begin by replicating the example API call they show on their web page:<br> \n",
    "[https://bison.usgs.gov/api/search.json?species=Bison bison&type=scientific_name&start=0&count=1](\n",
    "https://bison.usgs.gov/api/search.json?species=Bison%20bison&type=scientific_name&start=0&count=1)"
   ]
  },
  {
   "cell_type": "code",
   "execution_count": null,
   "metadata": {},
   "outputs": [],
   "source": [
    "#First, import the wonderful requests module\n",
    "import requests"
   ]
  },
  {
   "cell_type": "markdown",
   "metadata": {},
   "source": [
    "* Now, we'll deconstruct the example URL into the service URL and parameters, saving the paramters as a dictionary. Note we are just providing a few of the parameters available through the [API](https://bison.usgs.gov/doc/api.jsp#opensearch). We could add more search criteria if we wanted, but for now we just want to grab the first 500 Bison records. "
   ]
  },
  {
   "cell_type": "code",
   "execution_count": null,
   "metadata": {},
   "outputs": [],
   "source": [
    "# Construct the service URL as two components: the service URL and the request parameters\n",
    "url = 'http://bison.usgs.gov/api/search.json'\n",
    "params = {'species':'Bison bison',\n",
    "          'type':'scientific_name',\n",
    "          'start':'0',\n",
    "          'count':'500'\n",
    "         }"
   ]
  },
  {
   "cell_type": "markdown",
   "metadata": {},
   "source": [
    "* With the components set as variables, we use the `requests.get()` function to send our request off to the server at the address provided, storing the servers response as a variable called `response`. "
   ]
  },
  {
   "cell_type": "code",
   "execution_count": null,
   "metadata": {},
   "outputs": [],
   "source": [
    "#Send the request to the server and store the response as a variable\n",
    "response = requests.get(url,params)"
   ]
  },
  {
   "cell_type": "markdown",
   "metadata": {},
   "source": [
    "* This response object contains a number of properties and methods. Let's have a look at the reponse in raw text format. "
   ]
  },
  {
   "cell_type": "code",
   "execution_count": null,
   "metadata": {},
   "outputs": [],
   "source": [
    "#View the reponse in text format\n",
    "response.text"
   ]
  },
  {
   "cell_type": "markdown",
   "metadata": {},
   "source": [
    "**Yikes**, that's much less readable than the NWIS output!\n",
    "\n",
    "Well, that's because the response from the BISON server is in **JSON** format. JSON, short for *JavaScript Object Notation*, is a text document that stores information in `key`:`value` pairs, *much like a Python dictionary*. Still, it's a raw text object, but one that we convert into a Python dictionary using Python's json package."
   ]
  },
  {
   "cell_type": "code",
   "execution_count": null,
   "metadata": {},
   "outputs": [],
   "source": [
    "#Import the module\n",
    "import json\n",
    "\n",
    "#Convert the response \n",
    "data = json.loads(response.text)\n",
    "type(data)"
   ]
  },
  {
   "cell_type": "markdown",
   "metadata": {},
   "source": [
    "> *Note*: we could also convert this to JSON using the `json` function of the `response` object...<br>The code below has the exact same results as the one above. "
   ]
  },
  {
   "cell_type": "code",
   "execution_count": null,
   "metadata": {},
   "outputs": [],
   "source": [
    "data=response.json()\n",
    "type(data)"
   ]
  },
  {
   "cell_type": "markdown",
   "metadata": {},
   "source": [
    "* Ok, if it's a dictionary, what are it's keys? "
   ]
  },
  {
   "cell_type": "code",
   "execution_count": null,
   "metadata": {},
   "outputs": [],
   "source": [
    "#List the keys in the returned JSON object\n",
    "data.keys()"
   ]
  },
  {
   "cell_type": "markdown",
   "metadata": {},
   "source": [
    "* What are the values linked with the 'data' key?"
   ]
  },
  {
   "cell_type": "code",
   "execution_count": null,
   "metadata": {
    "scrolled": true
   },
   "outputs": [],
   "source": [
    "#Show the value associated with the `data` key\n",
    "data['data']"
   ]
  },
  {
   "cell_type": "markdown",
   "metadata": {},
   "source": [
    "* Oh, it's a list of occurrences! Let's examine the first one..."
   ]
  },
  {
   "cell_type": "code",
   "execution_count": null,
   "metadata": {},
   "outputs": [],
   "source": [
    "#Display the first \"data\" value\n",
    "data['data'][0]"
   ]
  },
  {
   "cell_type": "markdown",
   "metadata": {},
   "source": [
    "* We see it's a dictionary too! Let's list the `decimalLatitude` item value..."
   ]
  },
  {
   "cell_type": "code",
   "execution_count": null,
   "metadata": {},
   "outputs": [],
   "source": [
    "#We can get the latitude of the record from it's `decimalLatitude` key\n",
    "data['data'][0]['decimalLatitude']"
   ]
  },
  {
   "cell_type": "markdown",
   "metadata": {},
   "source": [
    "► **So** we see the Bison observations are stored as list of dictionaries which are accessed within the `data` key in the results dictionary generated from the JSON response to our API request. (Phew!)\n",
    "\n",
    "* With a bit more code we can loop through all the data records and print out the lat and long coordinates..."
   ]
  },
  {
   "cell_type": "code",
   "execution_count": null,
   "metadata": {},
   "outputs": [],
   "source": [
    "#Loop thorough each observation and print the lat and long values\n",
    "for observation in data['data']:\n",
    "    print (observation['decimalLatitude'],observation['decimalLongitude'])"
   ]
  },
  {
   "cell_type": "markdown",
   "metadata": {},
   "source": [
    "► *If the above throws an error, can you debug it? HINT: the `geo` tag indicates whether coordinate info exist for the record...*"
   ]
  },
  {
   "cell_type": "markdown",
   "metadata": {},
   "source": [
    "### [Another] Preview of 'Pandas' - that clever Python package with many uses!\n",
    "Pandas can create a \"data frame\" from dictionary values. We'll talk about this soon, but can be quite useful!"
   ]
  },
  {
   "cell_type": "code",
   "execution_count": null,
   "metadata": {},
   "outputs": [],
   "source": [
    "import pandas as pd\n",
    "df = pd.DataFrame(data['data'])\n",
    "df.head()"
   ]
  },
  {
   "cell_type": "markdown",
   "metadata": {},
   "source": [
    "And Pandas allows us to do some nifty analyses, including subsetting records for a specific provider.\n",
    "* First we'll get a list of unique providers found in the data"
   ]
  },
  {
   "cell_type": "code",
   "execution_count": null,
   "metadata": {},
   "outputs": [],
   "source": [
    "#Generate a list of providers\n",
    "df.provider.unique()"
   ]
  },
  {
   "cell_type": "markdown",
   "metadata": {},
   "source": [
    "* Now, we'll subset the rows that include that provider..."
   ]
  },
  {
   "cell_type": "code",
   "execution_count": null,
   "metadata": {},
   "outputs": [],
   "source": [
    "df.query(\"provider == 'Denver Museum of Nature & Science'\")"
   ]
  },
  {
   "cell_type": "markdown",
   "metadata": {},
   "source": [
    "## Exercise:\n",
    "* Extract the first 500 red wolf (*\"Canis rufus\"*) records from the BISON API. \n",
    "* Can you create a table listing the records collected by the `University of Kansas Biodiversity Institute`?\n",
    "* *Challenge*: Can you create a table listing all the records collected in North Carolina?"
   ]
  },
  {
   "cell_type": "code",
   "execution_count": 57,
   "metadata": {},
   "outputs": [],
   "source": [
    "#importing requests\n",
    "import requests\n",
    "\n",
    "# Construct the service URL as two components: the service URL and the request parameters\n",
    "url = 'http://bison.usgs.gov/api/search.json'\n",
    "params = {'species':'Canis rufus',\n",
    "          'type':'scientific_name',\n",
    "          'start':'0',\n",
    "          'count':'1000',\n",
    "         }\n",
    "\n",
    "#Send the request to the server and store the response as a variable\n",
    "response = requests.get(url,params)\n",
    "\n",
    "#response.text"
   ]
  },
  {
   "cell_type": "code",
   "execution_count": 58,
   "metadata": {},
   "outputs": [],
   "source": [
    "#Importing json\n",
    "import json\n",
    "\n",
    "#Convert the response \n",
    "data = json.loads(response.text)"
   ]
  },
  {
   "cell_type": "code",
   "execution_count": 59,
   "metadata": {},
   "outputs": [
    {
     "data": {
      "text/html": [
       "<div>\n",
       "<style scoped>\n",
       "    .dataframe tbody tr th:only-of-type {\n",
       "        vertical-align: middle;\n",
       "    }\n",
       "\n",
       "    .dataframe tbody tr th {\n",
       "        vertical-align: top;\n",
       "    }\n",
       "\n",
       "    .dataframe thead th {\n",
       "        text-align: right;\n",
       "    }\n",
       "</style>\n",
       "<table border=\"1\" class=\"dataframe\">\n",
       "  <thead>\n",
       "    <tr style=\"text-align: right;\">\n",
       "      <th></th>\n",
       "      <th>basis</th>\n",
       "      <th>common_name</th>\n",
       "      <th>decimalLatitude</th>\n",
       "      <th>decimalLongitude</th>\n",
       "      <th>geo</th>\n",
       "      <th>name</th>\n",
       "      <th>occurrenceID</th>\n",
       "      <th>provider</th>\n",
       "    </tr>\n",
       "  </thead>\n",
       "  <tbody>\n",
       "    <tr>\n",
       "      <th>0</th>\n",
       "      <td>Specimen</td>\n",
       "      <td></td>\n",
       "      <td>NaN</td>\n",
       "      <td>NaN</td>\n",
       "      <td>No</td>\n",
       "      <td>Canis rufus</td>\n",
       "      <td>82909859</td>\n",
       "      <td>National Museum of Natural History, Smithsonia...</td>\n",
       "    </tr>\n",
       "    <tr>\n",
       "      <th>1</th>\n",
       "      <td>Specimen</td>\n",
       "      <td></td>\n",
       "      <td>NaN</td>\n",
       "      <td>NaN</td>\n",
       "      <td>No</td>\n",
       "      <td>Canis rufus</td>\n",
       "      <td>82910676</td>\n",
       "      <td>National Museum of Natural History, Smithsonia...</td>\n",
       "    </tr>\n",
       "    <tr>\n",
       "      <th>2</th>\n",
       "      <td>Specimen</td>\n",
       "      <td></td>\n",
       "      <td>NaN</td>\n",
       "      <td>NaN</td>\n",
       "      <td>No</td>\n",
       "      <td>Canis rufus</td>\n",
       "      <td>82911142</td>\n",
       "      <td>National Museum of Natural History, Smithsonia...</td>\n",
       "    </tr>\n",
       "    <tr>\n",
       "      <th>3</th>\n",
       "      <td>Specimen</td>\n",
       "      <td></td>\n",
       "      <td>NaN</td>\n",
       "      <td>NaN</td>\n",
       "      <td>No</td>\n",
       "      <td>Canis rufus</td>\n",
       "      <td>82911261</td>\n",
       "      <td>National Museum of Natural History, Smithsonia...</td>\n",
       "    </tr>\n",
       "    <tr>\n",
       "      <th>4</th>\n",
       "      <td>Specimen</td>\n",
       "      <td></td>\n",
       "      <td>NaN</td>\n",
       "      <td>NaN</td>\n",
       "      <td>No</td>\n",
       "      <td>Canis rufus</td>\n",
       "      <td>82912752</td>\n",
       "      <td>National Museum of Natural History, Smithsonia...</td>\n",
       "    </tr>\n",
       "  </tbody>\n",
       "</table>\n",
       "</div>"
      ],
      "text/plain": [
       "      basis common_name decimalLatitude decimalLongitude geo         name  \\\n",
       "0  Specimen                         NaN              NaN  No  Canis rufus   \n",
       "1  Specimen                         NaN              NaN  No  Canis rufus   \n",
       "2  Specimen                         NaN              NaN  No  Canis rufus   \n",
       "3  Specimen                         NaN              NaN  No  Canis rufus   \n",
       "4  Specimen                         NaN              NaN  No  Canis rufus   \n",
       "\n",
       "  occurrenceID                                           provider  \n",
       "0     82909859  National Museum of Natural History, Smithsonia...  \n",
       "1     82910676  National Museum of Natural History, Smithsonia...  \n",
       "2     82911142  National Museum of Natural History, Smithsonia...  \n",
       "3     82911261  National Museum of Natural History, Smithsonia...  \n",
       "4     82912752  National Museum of Natural History, Smithsonia...  "
      ]
     },
     "execution_count": 59,
     "metadata": {},
     "output_type": "execute_result"
    }
   ],
   "source": [
    "import pandas as pd\n",
    "df = pd.DataFrame(data['data'])\n",
    "df.head()"
   ]
  },
  {
   "cell_type": "code",
   "execution_count": 60,
   "metadata": {},
   "outputs": [
    {
     "data": {
      "text/html": [
       "<div>\n",
       "<style scoped>\n",
       "    .dataframe tbody tr th:only-of-type {\n",
       "        vertical-align: middle;\n",
       "    }\n",
       "\n",
       "    .dataframe tbody tr th {\n",
       "        vertical-align: top;\n",
       "    }\n",
       "\n",
       "    .dataframe thead th {\n",
       "        text-align: right;\n",
       "    }\n",
       "</style>\n",
       "<table border=\"1\" class=\"dataframe\">\n",
       "  <thead>\n",
       "    <tr style=\"text-align: right;\">\n",
       "      <th></th>\n",
       "      <th>basis</th>\n",
       "      <th>common_name</th>\n",
       "      <th>decimalLatitude</th>\n",
       "      <th>decimalLongitude</th>\n",
       "      <th>geo</th>\n",
       "      <th>name</th>\n",
       "      <th>occurrenceID</th>\n",
       "      <th>provider</th>\n",
       "    </tr>\n",
       "  </thead>\n",
       "  <tbody>\n",
       "    <tr>\n",
       "      <th>526</th>\n",
       "      <td>Specimen</td>\n",
       "      <td></td>\n",
       "      <td>29.729999542236328</td>\n",
       "      <td>-96.31999969482422</td>\n",
       "      <td>Yes</td>\n",
       "      <td>Canis rufus</td>\n",
       "      <td>185722766</td>\n",
       "      <td>University of Kansas Biodiversity Institute</td>\n",
       "    </tr>\n",
       "    <tr>\n",
       "      <th>546</th>\n",
       "      <td>Specimen</td>\n",
       "      <td></td>\n",
       "      <td>29.579999923706055</td>\n",
       "      <td>-96.51000213623047</td>\n",
       "      <td>Yes</td>\n",
       "      <td>Canis rufus</td>\n",
       "      <td>185220474</td>\n",
       "      <td>University of Kansas Biodiversity Institute</td>\n",
       "    </tr>\n",
       "    <tr>\n",
       "      <th>548</th>\n",
       "      <td>Specimen</td>\n",
       "      <td></td>\n",
       "      <td>29.530000686645508</td>\n",
       "      <td>-96.56999969482422</td>\n",
       "      <td>Yes</td>\n",
       "      <td>Canis rufus</td>\n",
       "      <td>185005282</td>\n",
       "      <td>University of Kansas Biodiversity Institute</td>\n",
       "    </tr>\n",
       "    <tr>\n",
       "      <th>549</th>\n",
       "      <td>Specimen</td>\n",
       "      <td></td>\n",
       "      <td>29.530000686645508</td>\n",
       "      <td>-96.56999969482422</td>\n",
       "      <td>Yes</td>\n",
       "      <td>Canis rufus</td>\n",
       "      <td>185005284</td>\n",
       "      <td>University of Kansas Biodiversity Institute</td>\n",
       "    </tr>\n",
       "    <tr>\n",
       "      <th>550</th>\n",
       "      <td>Specimen</td>\n",
       "      <td></td>\n",
       "      <td>29.530000686645508</td>\n",
       "      <td>-96.56999969482422</td>\n",
       "      <td>Yes</td>\n",
       "      <td>Canis rufus</td>\n",
       "      <td>185005286</td>\n",
       "      <td>University of Kansas Biodiversity Institute</td>\n",
       "    </tr>\n",
       "    <tr>\n",
       "      <th>551</th>\n",
       "      <td>Specimen</td>\n",
       "      <td></td>\n",
       "      <td>27.809999465942383</td>\n",
       "      <td>-97.06999969482422</td>\n",
       "      <td>Yes</td>\n",
       "      <td>Canis rufus</td>\n",
       "      <td>182113165</td>\n",
       "      <td>University of Kansas Biodiversity Institute</td>\n",
       "    </tr>\n",
       "    <tr>\n",
       "      <th>553</th>\n",
       "      <td>Specimen</td>\n",
       "      <td></td>\n",
       "      <td>29.59000015258789</td>\n",
       "      <td>-96.63999938964844</td>\n",
       "      <td>Yes</td>\n",
       "      <td>Canis rufus</td>\n",
       "      <td>184574899</td>\n",
       "      <td>University of Kansas Biodiversity Institute</td>\n",
       "    </tr>\n",
       "    <tr>\n",
       "      <th>557</th>\n",
       "      <td>Specimen</td>\n",
       "      <td></td>\n",
       "      <td>29.6299991607666</td>\n",
       "      <td>-96.62000274658203</td>\n",
       "      <td>Yes</td>\n",
       "      <td>Canis rufus</td>\n",
       "      <td>184686921</td>\n",
       "      <td>University of Kansas Biodiversity Institute</td>\n",
       "    </tr>\n",
       "    <tr>\n",
       "      <th>591</th>\n",
       "      <td>Specimen</td>\n",
       "      <td></td>\n",
       "      <td>29.239999771118164</td>\n",
       "      <td>-95.16999816894531</td>\n",
       "      <td>Yes</td>\n",
       "      <td>Canis rufus</td>\n",
       "      <td>190415693</td>\n",
       "      <td>University of Kansas Biodiversity Institute</td>\n",
       "    </tr>\n",
       "    <tr>\n",
       "      <th>592</th>\n",
       "      <td>Specimen</td>\n",
       "      <td></td>\n",
       "      <td>29.239999771118164</td>\n",
       "      <td>-95.16999816894531</td>\n",
       "      <td>Yes</td>\n",
       "      <td>Canis rufus</td>\n",
       "      <td>190415694</td>\n",
       "      <td>University of Kansas Biodiversity Institute</td>\n",
       "    </tr>\n",
       "  </tbody>\n",
       "</table>\n",
       "</div>"
      ],
      "text/plain": [
       "        basis common_name     decimalLatitude    decimalLongitude  geo  \\\n",
       "526  Specimen              29.729999542236328  -96.31999969482422  Yes   \n",
       "546  Specimen              29.579999923706055  -96.51000213623047  Yes   \n",
       "548  Specimen              29.530000686645508  -96.56999969482422  Yes   \n",
       "549  Specimen              29.530000686645508  -96.56999969482422  Yes   \n",
       "550  Specimen              29.530000686645508  -96.56999969482422  Yes   \n",
       "551  Specimen              27.809999465942383  -97.06999969482422  Yes   \n",
       "553  Specimen               29.59000015258789  -96.63999938964844  Yes   \n",
       "557  Specimen                29.6299991607666  -96.62000274658203  Yes   \n",
       "591  Specimen              29.239999771118164  -95.16999816894531  Yes   \n",
       "592  Specimen              29.239999771118164  -95.16999816894531  Yes   \n",
       "\n",
       "            name occurrenceID                                     provider  \n",
       "526  Canis rufus    185722766  University of Kansas Biodiversity Institute  \n",
       "546  Canis rufus    185220474  University of Kansas Biodiversity Institute  \n",
       "548  Canis rufus    185005282  University of Kansas Biodiversity Institute  \n",
       "549  Canis rufus    185005284  University of Kansas Biodiversity Institute  \n",
       "550  Canis rufus    185005286  University of Kansas Biodiversity Institute  \n",
       "551  Canis rufus    182113165  University of Kansas Biodiversity Institute  \n",
       "553  Canis rufus    184574899  University of Kansas Biodiversity Institute  \n",
       "557  Canis rufus    184686921  University of Kansas Biodiversity Institute  \n",
       "591  Canis rufus    190415693  University of Kansas Biodiversity Institute  \n",
       "592  Canis rufus    190415694  University of Kansas Biodiversity Institute  "
      ]
     },
     "execution_count": 60,
     "metadata": {},
     "output_type": "execute_result"
    }
   ],
   "source": [
    "df.query(\"provider == 'University of Kansas Biodiversity Institute'\")"
   ]
  },
  {
   "cell_type": "code",
   "execution_count": 79,
   "metadata": {},
   "outputs": [
    {
     "data": {
      "text/html": [
       "<div>\n",
       "<style scoped>\n",
       "    .dataframe tbody tr th:only-of-type {\n",
       "        vertical-align: middle;\n",
       "    }\n",
       "\n",
       "    .dataframe tbody tr th {\n",
       "        vertical-align: top;\n",
       "    }\n",
       "\n",
       "    .dataframe thead th {\n",
       "        text-align: right;\n",
       "    }\n",
       "</style>\n",
       "<table border=\"1\" class=\"dataframe\">\n",
       "  <thead>\n",
       "    <tr style=\"text-align: right;\">\n",
       "      <th></th>\n",
       "      <th>basis</th>\n",
       "      <th>common_name</th>\n",
       "      <th>decimalLatitude</th>\n",
       "      <th>decimalLongitude</th>\n",
       "      <th>geo</th>\n",
       "      <th>name</th>\n",
       "      <th>occurrenceID</th>\n",
       "      <th>provider</th>\n",
       "    </tr>\n",
       "  </thead>\n",
       "  <tbody>\n",
       "    <tr>\n",
       "      <th>0</th>\n",
       "      <td>Specimen</td>\n",
       "      <td></td>\n",
       "      <td>35.5756721496582</td>\n",
       "      <td>-76.29776000976562</td>\n",
       "      <td>Yes</td>\n",
       "      <td>Canis rufus</td>\n",
       "      <td>303013045</td>\n",
       "      <td>James R. Slater Museum of Natural History</td>\n",
       "    </tr>\n",
       "    <tr>\n",
       "      <th>1</th>\n",
       "      <td>Specimen</td>\n",
       "      <td></td>\n",
       "      <td>35.83486557006836</td>\n",
       "      <td>-75.91395568847656</td>\n",
       "      <td>Yes</td>\n",
       "      <td>Canis rufus</td>\n",
       "      <td>306819508</td>\n",
       "      <td>James R. Slater Museum of Natural History</td>\n",
       "    </tr>\n",
       "    <tr>\n",
       "      <th>2</th>\n",
       "      <td>Specimen</td>\n",
       "      <td></td>\n",
       "      <td>35.83486557006836</td>\n",
       "      <td>-75.91395568847656</td>\n",
       "      <td>Yes</td>\n",
       "      <td>Canis rufus</td>\n",
       "      <td>306819509</td>\n",
       "      <td>James R. Slater Museum of Natural History</td>\n",
       "    </tr>\n",
       "    <tr>\n",
       "      <th>3</th>\n",
       "      <td>None</td>\n",
       "      <td></td>\n",
       "      <td>35.11817932128906</td>\n",
       "      <td>-77.0825424194336</td>\n",
       "      <td>Yes</td>\n",
       "      <td>Canis rufus</td>\n",
       "      <td>2108627</td>\n",
       "      <td>BISON</td>\n",
       "    </tr>\n",
       "    <tr>\n",
       "      <th>4</th>\n",
       "      <td>None</td>\n",
       "      <td></td>\n",
       "      <td>35.4823112487793</td>\n",
       "      <td>-76.8420181274414</td>\n",
       "      <td>Yes</td>\n",
       "      <td>Canis rufus</td>\n",
       "      <td>2108762</td>\n",
       "      <td>BISON</td>\n",
       "    </tr>\n",
       "  </tbody>\n",
       "</table>\n",
       "</div>"
      ],
      "text/plain": [
       "      basis common_name    decimalLatitude    decimalLongitude  geo  \\\n",
       "0  Specimen               35.5756721496582  -76.29776000976562  Yes   \n",
       "1  Specimen              35.83486557006836  -75.91395568847656  Yes   \n",
       "2  Specimen              35.83486557006836  -75.91395568847656  Yes   \n",
       "3      None              35.11817932128906   -77.0825424194336  Yes   \n",
       "4      None               35.4823112487793   -76.8420181274414  Yes   \n",
       "\n",
       "          name occurrenceID                                   provider  \n",
       "0  Canis rufus    303013045  James R. Slater Museum of Natural History  \n",
       "1  Canis rufus    306819508  James R. Slater Museum of Natural History  \n",
       "2  Canis rufus    306819509  James R. Slater Museum of Natural History  \n",
       "3  Canis rufus      2108627                                      BISON  \n",
       "4  Canis rufus      2108762                                      BISON  "
      ]
     },
     "execution_count": 79,
     "metadata": {},
     "output_type": "execute_result"
    }
   ],
   "source": [
    "##Trying to get just the North Carolina ones. CHALLENGE QUESTION\n",
    "\n",
    "url2 = 'http://bison.usgs.gov/api/search.json'\n",
    "params2 = {'species':'Canis rufus',\n",
    "          'type':'scientific_name',\n",
    "           'state' : \"North Carolina\"\n",
    "           #\"data\":[{'states':\"North Carolina\"}]  These don't work...\n",
    "          #'states':{\"North Carolina\"}\n",
    "         }\n",
    "\n",
    "#Send the request to the server and store the response as a variable\n",
    "response2 = requests.get(url2,params2)\n",
    "\n",
    "data2 = json.loads(response2.text)\n",
    "\n",
    "df2 = pd.DataFrame(data2['data'])\n",
    "df2.head()"
   ]
  },
  {
   "cell_type": "code",
   "execution_count": null,
   "metadata": {},
   "outputs": [],
   "source": []
  }
 ],
 "metadata": {
  "kernelspec": {
   "display_name": "Python 3",
   "language": "python",
   "name": "python3"
  },
  "language_info": {
   "codemirror_mode": {
    "name": "ipython",
    "version": 3
   },
   "file_extension": ".py",
   "mimetype": "text/x-python",
   "name": "python",
   "nbconvert_exporter": "python",
   "pygments_lexer": "ipython3",
   "version": "3.6.5"
  }
 },
 "nbformat": 4,
 "nbformat_minor": 2
}
